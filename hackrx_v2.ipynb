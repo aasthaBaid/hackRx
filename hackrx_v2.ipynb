{
  "nbformat": 4,
  "nbformat_minor": 0,
  "metadata": {
    "colab": {
      "provenance": [],
      "toc_visible": true,
      "gpuType": "T4",
      "authorship_tag": "ABX9TyPmdMIgDdcFiaUVr0lAvP2R",
      "include_colab_link": true
    },
    "kernelspec": {
      "name": "python3",
      "display_name": "Python 3"
    },
    "language_info": {
      "name": "python"
    },
    "accelerator": "GPU"
  },
  "cells": [
    {
      "cell_type": "markdown",
      "metadata": {
        "id": "view-in-github",
        "colab_type": "text"
      },
      "source": [
        "<a href=\"https://colab.research.google.com/github/aasthaBaid/hackRx/blob/main/hackrx_v2.ipynb\" target=\"_parent\"><img src=\"https://colab.research.google.com/assets/colab-badge.svg\" alt=\"Open In Colab\"/></a>"
      ]
    },
    {
      "cell_type": "code",
      "execution_count": 1,
      "metadata": {
        "colab": {
          "base_uri": "https://localhost:8080/"
        },
        "collapsed": true,
        "id": "R_-2Enpww9uk",
        "outputId": "8bf66de0-0d91-454c-ccc9-d463368edfe1"
      },
      "outputs": [
        {
          "output_type": "stream",
          "name": "stdout",
          "text": [
            "Requirement already satisfied: langchain in /usr/local/lib/python3.11/dist-packages (0.3.27)\n",
            "Requirement already satisfied: langchain-google-genai in /usr/local/lib/python3.11/dist-packages (2.1.8)\n",
            "Requirement already satisfied: python-dotenv in /usr/local/lib/python3.11/dist-packages (1.1.1)\n",
            "Requirement already satisfied: pypdf in /usr/local/lib/python3.11/dist-packages (5.9.0)\n",
            "Requirement already satisfied: python-docx in /usr/local/lib/python3.11/dist-packages (1.2.0)\n",
            "Requirement already satisfied: faiss-cpu in /usr/local/lib/python3.11/dist-packages (1.11.0.post1)\n",
            "Requirement already satisfied: requests in /usr/local/lib/python3.11/dist-packages (2.32.3)\n",
            "Requirement already satisfied: tiktoken in /usr/local/lib/python3.11/dist-packages (0.9.0)\n",
            "Requirement already satisfied: langchain-core<1.0.0,>=0.3.72 in /usr/local/lib/python3.11/dist-packages (from langchain) (0.3.72)\n",
            "Requirement already satisfied: langchain-text-splitters<1.0.0,>=0.3.9 in /usr/local/lib/python3.11/dist-packages (from langchain) (0.3.9)\n",
            "Requirement already satisfied: langsmith>=0.1.17 in /usr/local/lib/python3.11/dist-packages (from langchain) (0.4.8)\n",
            "Requirement already satisfied: pydantic<3.0.0,>=2.7.4 in /usr/local/lib/python3.11/dist-packages (from langchain) (2.11.7)\n",
            "Requirement already satisfied: SQLAlchemy<3,>=1.4 in /usr/local/lib/python3.11/dist-packages (from langchain) (2.0.41)\n",
            "Requirement already satisfied: PyYAML>=5.3 in /usr/local/lib/python3.11/dist-packages (from langchain) (6.0.2)\n",
            "Requirement already satisfied: filetype<2.0.0,>=1.2.0 in /usr/local/lib/python3.11/dist-packages (from langchain-google-genai) (1.2.0)\n",
            "Requirement already satisfied: google-ai-generativelanguage<0.7.0,>=0.6.18 in /usr/local/lib/python3.11/dist-packages (from langchain-google-genai) (0.6.18)\n",
            "Requirement already satisfied: lxml>=3.1.0 in /usr/local/lib/python3.11/dist-packages (from python-docx) (5.4.0)\n",
            "Requirement already satisfied: typing_extensions>=4.9.0 in /usr/local/lib/python3.11/dist-packages (from python-docx) (4.14.1)\n",
            "Requirement already satisfied: numpy<3.0,>=1.25.0 in /usr/local/lib/python3.11/dist-packages (from faiss-cpu) (2.0.2)\n",
            "Requirement already satisfied: packaging in /usr/local/lib/python3.11/dist-packages (from faiss-cpu) (25.0)\n",
            "Requirement already satisfied: charset-normalizer<4,>=2 in /usr/local/lib/python3.11/dist-packages (from requests) (3.4.2)\n",
            "Requirement already satisfied: idna<4,>=2.5 in /usr/local/lib/python3.11/dist-packages (from requests) (3.10)\n",
            "Requirement already satisfied: urllib3<3,>=1.21.1 in /usr/local/lib/python3.11/dist-packages (from requests) (2.5.0)\n",
            "Requirement already satisfied: certifi>=2017.4.17 in /usr/local/lib/python3.11/dist-packages (from requests) (2025.7.14)\n",
            "Requirement already satisfied: regex>=2022.1.18 in /usr/local/lib/python3.11/dist-packages (from tiktoken) (2024.11.6)\n",
            "Requirement already satisfied: google-api-core!=2.0.*,!=2.1.*,!=2.10.*,!=2.2.*,!=2.3.*,!=2.4.*,!=2.5.*,!=2.6.*,!=2.7.*,!=2.8.*,!=2.9.*,<3.0.0,>=1.34.1 in /usr/local/lib/python3.11/dist-packages (from google-api-core[grpc]!=2.0.*,!=2.1.*,!=2.10.*,!=2.2.*,!=2.3.*,!=2.4.*,!=2.5.*,!=2.6.*,!=2.7.*,!=2.8.*,!=2.9.*,<3.0.0,>=1.34.1->google-ai-generativelanguage<0.7.0,>=0.6.18->langchain-google-genai) (2.25.1)\n",
            "Requirement already satisfied: google-auth!=2.24.0,!=2.25.0,<3.0.0,>=2.14.1 in /usr/local/lib/python3.11/dist-packages (from google-ai-generativelanguage<0.7.0,>=0.6.18->langchain-google-genai) (2.38.0)\n",
            "Requirement already satisfied: proto-plus<2.0.0,>=1.22.3 in /usr/local/lib/python3.11/dist-packages (from google-ai-generativelanguage<0.7.0,>=0.6.18->langchain-google-genai) (1.26.1)\n",
            "Requirement already satisfied: protobuf!=4.21.0,!=4.21.1,!=4.21.2,!=4.21.3,!=4.21.4,!=4.21.5,<7.0.0,>=3.20.2 in /usr/local/lib/python3.11/dist-packages (from google-ai-generativelanguage<0.7.0,>=0.6.18->langchain-google-genai) (5.29.5)\n",
            "Requirement already satisfied: tenacity!=8.4.0,<10.0.0,>=8.1.0 in /usr/local/lib/python3.11/dist-packages (from langchain-core<1.0.0,>=0.3.72->langchain) (8.5.0)\n",
            "Requirement already satisfied: jsonpatch<2.0,>=1.33 in /usr/local/lib/python3.11/dist-packages (from langchain-core<1.0.0,>=0.3.72->langchain) (1.33)\n",
            "Requirement already satisfied: httpx<1,>=0.23.0 in /usr/local/lib/python3.11/dist-packages (from langsmith>=0.1.17->langchain) (0.28.1)\n",
            "Requirement already satisfied: orjson<4.0.0,>=3.9.14 in /usr/local/lib/python3.11/dist-packages (from langsmith>=0.1.17->langchain) (3.11.1)\n",
            "Requirement already satisfied: requests-toolbelt<2.0.0,>=1.0.0 in /usr/local/lib/python3.11/dist-packages (from langsmith>=0.1.17->langchain) (1.0.0)\n",
            "Requirement already satisfied: zstandard<0.24.0,>=0.23.0 in /usr/local/lib/python3.11/dist-packages (from langsmith>=0.1.17->langchain) (0.23.0)\n",
            "Requirement already satisfied: annotated-types>=0.6.0 in /usr/local/lib/python3.11/dist-packages (from pydantic<3.0.0,>=2.7.4->langchain) (0.7.0)\n",
            "Requirement already satisfied: pydantic-core==2.33.2 in /usr/local/lib/python3.11/dist-packages (from pydantic<3.0.0,>=2.7.4->langchain) (2.33.2)\n",
            "Requirement already satisfied: typing-inspection>=0.4.0 in /usr/local/lib/python3.11/dist-packages (from pydantic<3.0.0,>=2.7.4->langchain) (0.4.1)\n",
            "Requirement already satisfied: greenlet>=1 in /usr/local/lib/python3.11/dist-packages (from SQLAlchemy<3,>=1.4->langchain) (3.2.3)\n",
            "Requirement already satisfied: googleapis-common-protos<2.0.0,>=1.56.2 in /usr/local/lib/python3.11/dist-packages (from google-api-core!=2.0.*,!=2.1.*,!=2.10.*,!=2.2.*,!=2.3.*,!=2.4.*,!=2.5.*,!=2.6.*,!=2.7.*,!=2.8.*,!=2.9.*,<3.0.0,>=1.34.1->google-api-core[grpc]!=2.0.*,!=2.1.*,!=2.10.*,!=2.2.*,!=2.3.*,!=2.4.*,!=2.5.*,!=2.6.*,!=2.7.*,!=2.8.*,!=2.9.*,<3.0.0,>=1.34.1->google-ai-generativelanguage<0.7.0,>=0.6.18->langchain-google-genai) (1.70.0)\n",
            "Requirement already satisfied: grpcio<2.0.0,>=1.33.2 in /usr/local/lib/python3.11/dist-packages (from google-api-core[grpc]!=2.0.*,!=2.1.*,!=2.10.*,!=2.2.*,!=2.3.*,!=2.4.*,!=2.5.*,!=2.6.*,!=2.7.*,!=2.8.*,!=2.9.*,<3.0.0,>=1.34.1->google-ai-generativelanguage<0.7.0,>=0.6.18->langchain-google-genai) (1.74.0)\n",
            "Requirement already satisfied: grpcio-status<2.0.0,>=1.33.2 in /usr/local/lib/python3.11/dist-packages (from google-api-core[grpc]!=2.0.*,!=2.1.*,!=2.10.*,!=2.2.*,!=2.3.*,!=2.4.*,!=2.5.*,!=2.6.*,!=2.7.*,!=2.8.*,!=2.9.*,<3.0.0,>=1.34.1->google-ai-generativelanguage<0.7.0,>=0.6.18->langchain-google-genai) (1.71.2)\n",
            "Requirement already satisfied: cachetools<6.0,>=2.0.0 in /usr/local/lib/python3.11/dist-packages (from google-auth!=2.24.0,!=2.25.0,<3.0.0,>=2.14.1->google-ai-generativelanguage<0.7.0,>=0.6.18->langchain-google-genai) (5.5.2)\n",
            "Requirement already satisfied: pyasn1-modules>=0.2.1 in /usr/local/lib/python3.11/dist-packages (from google-auth!=2.24.0,!=2.25.0,<3.0.0,>=2.14.1->google-ai-generativelanguage<0.7.0,>=0.6.18->langchain-google-genai) (0.4.2)\n",
            "Requirement already satisfied: rsa<5,>=3.1.4 in /usr/local/lib/python3.11/dist-packages (from google-auth!=2.24.0,!=2.25.0,<3.0.0,>=2.14.1->google-ai-generativelanguage<0.7.0,>=0.6.18->langchain-google-genai) (4.9.1)\n",
            "Requirement already satisfied: anyio in /usr/local/lib/python3.11/dist-packages (from httpx<1,>=0.23.0->langsmith>=0.1.17->langchain) (4.9.0)\n",
            "Requirement already satisfied: httpcore==1.* in /usr/local/lib/python3.11/dist-packages (from httpx<1,>=0.23.0->langsmith>=0.1.17->langchain) (1.0.9)\n",
            "Requirement already satisfied: h11>=0.16 in /usr/local/lib/python3.11/dist-packages (from httpcore==1.*->httpx<1,>=0.23.0->langsmith>=0.1.17->langchain) (0.16.0)\n",
            "Requirement already satisfied: jsonpointer>=1.9 in /usr/local/lib/python3.11/dist-packages (from jsonpatch<2.0,>=1.33->langchain-core<1.0.0,>=0.3.72->langchain) (3.0.0)\n",
            "Requirement already satisfied: pyasn1<0.7.0,>=0.6.1 in /usr/local/lib/python3.11/dist-packages (from pyasn1-modules>=0.2.1->google-auth!=2.24.0,!=2.25.0,<3.0.0,>=2.14.1->google-ai-generativelanguage<0.7.0,>=0.6.18->langchain-google-genai) (0.6.1)\n",
            "Requirement already satisfied: sniffio>=1.1 in /usr/local/lib/python3.11/dist-packages (from anyio->httpx<1,>=0.23.0->langsmith>=0.1.17->langchain) (1.3.1)\n"
          ]
        }
      ],
      "source": [
        "!pip install langchain langchain-google-genai python-dotenv pypdf python-docx faiss-cpu requests tiktoken\n"
      ]
    },
    {
      "cell_type": "code",
      "source": [
        "!pip install -U langchain-community\n"
      ],
      "metadata": {
        "colab": {
          "base_uri": "https://localhost:8080/"
        },
        "collapsed": true,
        "id": "2hyrpPt5xgk9",
        "outputId": "d6953375-4b86-43d6-b297-f08754e57176"
      },
      "execution_count": 2,
      "outputs": [
        {
          "output_type": "stream",
          "name": "stdout",
          "text": [
            "Collecting langchain-community\n",
            "  Downloading langchain_community-0.3.27-py3-none-any.whl.metadata (2.9 kB)\n",
            "Requirement already satisfied: langchain-core<1.0.0,>=0.3.66 in /usr/local/lib/python3.11/dist-packages (from langchain-community) (0.3.72)\n",
            "Requirement already satisfied: langchain<1.0.0,>=0.3.26 in /usr/local/lib/python3.11/dist-packages (from langchain-community) (0.3.27)\n",
            "Requirement already satisfied: SQLAlchemy<3,>=1.4 in /usr/local/lib/python3.11/dist-packages (from langchain-community) (2.0.41)\n",
            "Requirement already satisfied: requests<3,>=2 in /usr/local/lib/python3.11/dist-packages (from langchain-community) (2.32.3)\n",
            "Requirement already satisfied: PyYAML>=5.3 in /usr/local/lib/python3.11/dist-packages (from langchain-community) (6.0.2)\n",
            "Requirement already satisfied: aiohttp<4.0.0,>=3.8.3 in /usr/local/lib/python3.11/dist-packages (from langchain-community) (3.12.14)\n",
            "Requirement already satisfied: tenacity!=8.4.0,<10,>=8.1.0 in /usr/local/lib/python3.11/dist-packages (from langchain-community) (8.5.0)\n",
            "Collecting dataclasses-json<0.7,>=0.5.7 (from langchain-community)\n",
            "  Downloading dataclasses_json-0.6.7-py3-none-any.whl.metadata (25 kB)\n",
            "Collecting pydantic-settings<3.0.0,>=2.4.0 (from langchain-community)\n",
            "  Downloading pydantic_settings-2.10.1-py3-none-any.whl.metadata (3.4 kB)\n",
            "Requirement already satisfied: langsmith>=0.1.125 in /usr/local/lib/python3.11/dist-packages (from langchain-community) (0.4.8)\n",
            "Collecting httpx-sse<1.0.0,>=0.4.0 (from langchain-community)\n",
            "  Downloading httpx_sse-0.4.1-py3-none-any.whl.metadata (9.4 kB)\n",
            "Requirement already satisfied: numpy>=1.26.2 in /usr/local/lib/python3.11/dist-packages (from langchain-community) (2.0.2)\n",
            "Requirement already satisfied: aiohappyeyeballs>=2.5.0 in /usr/local/lib/python3.11/dist-packages (from aiohttp<4.0.0,>=3.8.3->langchain-community) (2.6.1)\n",
            "Requirement already satisfied: aiosignal>=1.4.0 in /usr/local/lib/python3.11/dist-packages (from aiohttp<4.0.0,>=3.8.3->langchain-community) (1.4.0)\n",
            "Requirement already satisfied: attrs>=17.3.0 in /usr/local/lib/python3.11/dist-packages (from aiohttp<4.0.0,>=3.8.3->langchain-community) (25.3.0)\n",
            "Requirement already satisfied: frozenlist>=1.1.1 in /usr/local/lib/python3.11/dist-packages (from aiohttp<4.0.0,>=3.8.3->langchain-community) (1.7.0)\n",
            "Requirement already satisfied: multidict<7.0,>=4.5 in /usr/local/lib/python3.11/dist-packages (from aiohttp<4.0.0,>=3.8.3->langchain-community) (6.6.3)\n",
            "Requirement already satisfied: propcache>=0.2.0 in /usr/local/lib/python3.11/dist-packages (from aiohttp<4.0.0,>=3.8.3->langchain-community) (0.3.2)\n",
            "Requirement already satisfied: yarl<2.0,>=1.17.0 in /usr/local/lib/python3.11/dist-packages (from aiohttp<4.0.0,>=3.8.3->langchain-community) (1.20.1)\n",
            "Collecting marshmallow<4.0.0,>=3.18.0 (from dataclasses-json<0.7,>=0.5.7->langchain-community)\n",
            "  Downloading marshmallow-3.26.1-py3-none-any.whl.metadata (7.3 kB)\n",
            "Collecting typing-inspect<1,>=0.4.0 (from dataclasses-json<0.7,>=0.5.7->langchain-community)\n",
            "  Downloading typing_inspect-0.9.0-py3-none-any.whl.metadata (1.5 kB)\n",
            "Requirement already satisfied: langchain-text-splitters<1.0.0,>=0.3.9 in /usr/local/lib/python3.11/dist-packages (from langchain<1.0.0,>=0.3.26->langchain-community) (0.3.9)\n",
            "Requirement already satisfied: pydantic<3.0.0,>=2.7.4 in /usr/local/lib/python3.11/dist-packages (from langchain<1.0.0,>=0.3.26->langchain-community) (2.11.7)\n",
            "Requirement already satisfied: jsonpatch<2.0,>=1.33 in /usr/local/lib/python3.11/dist-packages (from langchain-core<1.0.0,>=0.3.66->langchain-community) (1.33)\n",
            "Requirement already satisfied: typing-extensions>=4.7 in /usr/local/lib/python3.11/dist-packages (from langchain-core<1.0.0,>=0.3.66->langchain-community) (4.14.1)\n",
            "Requirement already satisfied: packaging>=23.2 in /usr/local/lib/python3.11/dist-packages (from langchain-core<1.0.0,>=0.3.66->langchain-community) (25.0)\n",
            "Requirement already satisfied: httpx<1,>=0.23.0 in /usr/local/lib/python3.11/dist-packages (from langsmith>=0.1.125->langchain-community) (0.28.1)\n",
            "Requirement already satisfied: orjson<4.0.0,>=3.9.14 in /usr/local/lib/python3.11/dist-packages (from langsmith>=0.1.125->langchain-community) (3.11.1)\n",
            "Requirement already satisfied: requests-toolbelt<2.0.0,>=1.0.0 in /usr/local/lib/python3.11/dist-packages (from langsmith>=0.1.125->langchain-community) (1.0.0)\n",
            "Requirement already satisfied: zstandard<0.24.0,>=0.23.0 in /usr/local/lib/python3.11/dist-packages (from langsmith>=0.1.125->langchain-community) (0.23.0)\n",
            "Requirement already satisfied: python-dotenv>=0.21.0 in /usr/local/lib/python3.11/dist-packages (from pydantic-settings<3.0.0,>=2.4.0->langchain-community) (1.1.1)\n",
            "Requirement already satisfied: typing-inspection>=0.4.0 in /usr/local/lib/python3.11/dist-packages (from pydantic-settings<3.0.0,>=2.4.0->langchain-community) (0.4.1)\n",
            "Requirement already satisfied: charset-normalizer<4,>=2 in /usr/local/lib/python3.11/dist-packages (from requests<3,>=2->langchain-community) (3.4.2)\n",
            "Requirement already satisfied: idna<4,>=2.5 in /usr/local/lib/python3.11/dist-packages (from requests<3,>=2->langchain-community) (3.10)\n",
            "Requirement already satisfied: urllib3<3,>=1.21.1 in /usr/local/lib/python3.11/dist-packages (from requests<3,>=2->langchain-community) (2.5.0)\n",
            "Requirement already satisfied: certifi>=2017.4.17 in /usr/local/lib/python3.11/dist-packages (from requests<3,>=2->langchain-community) (2025.7.14)\n",
            "Requirement already satisfied: greenlet>=1 in /usr/local/lib/python3.11/dist-packages (from SQLAlchemy<3,>=1.4->langchain-community) (3.2.3)\n",
            "Requirement already satisfied: anyio in /usr/local/lib/python3.11/dist-packages (from httpx<1,>=0.23.0->langsmith>=0.1.125->langchain-community) (4.9.0)\n",
            "Requirement already satisfied: httpcore==1.* in /usr/local/lib/python3.11/dist-packages (from httpx<1,>=0.23.0->langsmith>=0.1.125->langchain-community) (1.0.9)\n",
            "Requirement already satisfied: h11>=0.16 in /usr/local/lib/python3.11/dist-packages (from httpcore==1.*->httpx<1,>=0.23.0->langsmith>=0.1.125->langchain-community) (0.16.0)\n",
            "Requirement already satisfied: jsonpointer>=1.9 in /usr/local/lib/python3.11/dist-packages (from jsonpatch<2.0,>=1.33->langchain-core<1.0.0,>=0.3.66->langchain-community) (3.0.0)\n",
            "Requirement already satisfied: annotated-types>=0.6.0 in /usr/local/lib/python3.11/dist-packages (from pydantic<3.0.0,>=2.7.4->langchain<1.0.0,>=0.3.26->langchain-community) (0.7.0)\n",
            "Requirement already satisfied: pydantic-core==2.33.2 in /usr/local/lib/python3.11/dist-packages (from pydantic<3.0.0,>=2.7.4->langchain<1.0.0,>=0.3.26->langchain-community) (2.33.2)\n",
            "Collecting mypy-extensions>=0.3.0 (from typing-inspect<1,>=0.4.0->dataclasses-json<0.7,>=0.5.7->langchain-community)\n",
            "  Downloading mypy_extensions-1.1.0-py3-none-any.whl.metadata (1.1 kB)\n",
            "Requirement already satisfied: sniffio>=1.1 in /usr/local/lib/python3.11/dist-packages (from anyio->httpx<1,>=0.23.0->langsmith>=0.1.125->langchain-community) (1.3.1)\n",
            "Downloading langchain_community-0.3.27-py3-none-any.whl (2.5 MB)\n",
            "\u001b[2K   \u001b[90m━━━━━━━━━━━━━━━━━━━━━━━━━━━━━━━━━━━━━━━━\u001b[0m \u001b[32m2.5/2.5 MB\u001b[0m \u001b[31m48.8 MB/s\u001b[0m eta \u001b[36m0:00:00\u001b[0m\n",
            "\u001b[?25hDownloading dataclasses_json-0.6.7-py3-none-any.whl (28 kB)\n",
            "Downloading httpx_sse-0.4.1-py3-none-any.whl (8.1 kB)\n",
            "Downloading pydantic_settings-2.10.1-py3-none-any.whl (45 kB)\n",
            "\u001b[2K   \u001b[90m━━━━━━━━━━━━━━━━━━━━━━━━━━━━━━━━━━━━━━━━\u001b[0m \u001b[32m45.2/45.2 kB\u001b[0m \u001b[31m4.4 MB/s\u001b[0m eta \u001b[36m0:00:00\u001b[0m\n",
            "\u001b[?25hDownloading marshmallow-3.26.1-py3-none-any.whl (50 kB)\n",
            "\u001b[2K   \u001b[90m━━━━━━━━━━━━━━━━━━━━━━━━━━━━━━━━━━━━━━━━\u001b[0m \u001b[32m50.9/50.9 kB\u001b[0m \u001b[31m5.0 MB/s\u001b[0m eta \u001b[36m0:00:00\u001b[0m\n",
            "\u001b[?25hDownloading typing_inspect-0.9.0-py3-none-any.whl (8.8 kB)\n",
            "Downloading mypy_extensions-1.1.0-py3-none-any.whl (5.0 kB)\n",
            "Installing collected packages: mypy-extensions, marshmallow, httpx-sse, typing-inspect, pydantic-settings, dataclasses-json, langchain-community\n",
            "Successfully installed dataclasses-json-0.6.7 httpx-sse-0.4.1 langchain-community-0.3.27 marshmallow-3.26.1 mypy-extensions-1.1.0 pydantic-settings-2.10.1 typing-inspect-0.9.0\n"
          ]
        }
      ]
    },
    {
      "cell_type": "code",
      "source": [
        "# --- Imports and API Key Setup ---\n",
        "import requests\n",
        "import json\n",
        "import os\n",
        "from io import BytesIO\n",
        "\n",
        "# LangChain components\n",
        "from langchain.text_splitter import RecursiveCharacterTextSplitter\n",
        "\n",
        "from langchain.chains import LLMChain\n",
        "\n",
        "from langchain_community.vectorstores import FAISS\n",
        "from langchain_core.documents import Document\n",
        "from langchain_core.prompts import PromptTemplate\n",
        "\n",
        "# Import Gemini classes\n",
        "from langchain_google_genai import ChatGoogleGenerativeAI, GoogleGenerativeAIEmbeddings\n",
        "\n",
        "# Securely get the API key from Colab secrets\n",
        "from google.colab import userdata\n",
        "GOOGLE_API_KEY = userdata.get('GOOGLE_API_KEY')\n",
        "\n",
        "# Configure the genai library\n",
        "import google.generativeai as genai\n",
        "genai.configure(api_key=GOOGLE_API_KEY)"
      ],
      "metadata": {
        "id": "uKA95mMqxpIJ"
      },
      "execution_count": 3,
      "outputs": []
    },
    {
      "cell_type": "code",
      "source": [
        "def create_vector_store(documents: list[Document]):\n",
        "    \"\"\"\n",
        "    Creates a FAISS vector store from document chunks using Gemini embeddings.\n",
        "    \"\"\"\n",
        "    if not documents:\n",
        "        print(\"No documents to process.\")\n",
        "        return None\n",
        "\n",
        "    try:\n",
        "        # Use Google's embedding model\n",
        "        embeddings = GoogleGenerativeAIEmbeddings(model=\"models/embedding-001\", google_api_key=GOOGLE_API_KEY)\n",
        "        vector_store = FAISS.from_documents(documents, embeddings)\n",
        "        print(\"Vector store created successfully using Gemini embeddings.\")\n",
        "        return vector_store\n",
        "    except Exception as e:\n",
        "        print(f\"An error occurred while creating the vector store: {e}\")\n",
        "        return None"
      ],
      "metadata": {
        "id": "F4zySsHuxtEI"
      },
      "execution_count": 4,
      "outputs": []
    },
    {
      "cell_type": "code",
      "source": [
        "def query_system(query: str, vector_store):\n",
        "    \"\"\"\n",
        "    Queries the system using Gemini Pro to get a structured JSON response.\n",
        "    \"\"\"\n",
        "    if not vector_store:\n",
        "        return {\"error\": \"Vector store is not available.\"}\n",
        "\n",
        "    # 4. Clause Matching (Semantic Similarity Search)\n",
        "    print(f\"Searching for clauses relevant to: '{query}'\")\n",
        "    relevant_docs = vector_store.similarity_search(query, k=4)\n",
        "    context_clauses = \"\\n\\n\".join([doc.page_content for doc in relevant_docs])\n",
        "\n",
        "    # 5. Logic Evaluation & 6. JSON Output\n",
        "    prompt_template = \"\"\"\n",
        "    You are an expert AI assistant for analyzing legal and insurance documents.\n",
        "    Your task is to answer the user's query based ONLY on the provided context clauses from a document.\n",
        "    Do not use any external knowledge. If the context doesn't contain the answer, say so.\n",
        "\n",
        "    Respond in a valid JSON format with the following structure:\n",
        "    {{\n",
        "      \"decision\": \"Yes\", \"No\", or \"Partial/Conditional\",\n",
        "      \"explanation\": \"A clear, concise explanation for your decision, citing the reasoning from the context.\",\n",
        "      \"confidence_score\": A value between 0.0 and 1.0 indicating your confidence in the answer.,\n",
        "      \"relevant_clauses\": [\n",
        "        \"A list of the exact text snippets from the context that support your decision.\"\n",
        "      ]\n",
        "    }}\n",
        "\n",
        "    CONTEXT CLAUSES:\n",
        "    {context}\n",
        "\n",
        "    USER QUERY:\n",
        "    {query}\n",
        "\n",
        "    JSON RESPONSE:\n",
        "    \"\"\"\n",
        "    prompt = PromptTemplate(template=prompt_template, input_variables=[\"context\", \"query\"])\n",
        "\n",
        "    # Initialize the Gemini LLM\n",
        "    llm = ChatGoogleGenerativeAI(\n",
        "        model=\"gemini-1.5-flash\",\n",
        "        google_api_key=GOOGLE_API_KEY,\n",
        "        temperature=0.0, # Low temperature for factual output\n",
        "        convert_system_message_to_human=True # Important for some LangChain chains\n",
        "    )\n",
        "\n",
        "    chain = LLMChain(llm=llm, prompt=prompt)\n",
        "    print(\"Sending query and context to Gemini for evaluation...\")\n",
        "    response_text = chain.run(context=context_clauses, query=query)\n",
        "\n",
        "    # Clean up the response text\n",
        "    if \"```json\" in response_text:\n",
        "        response_text = response_text.split(\"```json\")[1].split(\"```\")[0]\n",
        "\n",
        "    try:\n",
        "        return json.loads(response_text)\n",
        "    except json.JSONDecodeError:\n",
        "        return {\"error\": \"Failed to parse Gemini response into JSON.\", \"raw_response\": response_text}"
      ],
      "metadata": {
        "id": "LimfNYXVxxa3"
      },
      "execution_count": 5,
      "outputs": []
    },
    {
      "cell_type": "code",
      "source": [
        "from langchain_community.document_loaders import PyPDFLoader, Docx2txtLoader\n",
        "def process_document(path: str) -> list[Document]:\n",
        "    \"\"\"\n",
        "    Downloads, loads, and splits a document (PDF or DOCX) from a URL or local path.\n",
        "    \"\"\"\n",
        "    try:\n",
        "        if os.path.exists(path):\n",
        "            print(f\"Loading document from local path: {path}\")\n",
        "            file_extension = os.path.splitext(path)[1].lower()\n",
        "            if file_extension == \".pdf\":\n",
        "                loader = PyPDFLoader(path)\n",
        "            elif file_extension == \".docx\":\n",
        "                loader = Docx2txtLoader(path)\n",
        "            else:\n",
        "                print(f\"Unsupported file type: {file_extension}\")\n",
        "                return None\n",
        "        else:\n",
        "            print(f\"Downloading document from: {path}\")\n",
        "            response = requests.get(path)\n",
        "            response.raise_for_status()  # Raise an exception for bad status codes\n",
        "            file_content = BytesIO(response.content)\n",
        "            file_extension = os.path.splitext(path)[1].lower()\n",
        "\n",
        "            print(f\"Processing a {file_extension.upper()} file...\")\n",
        "            if file_extension == \".pdf\":\n",
        "                # We need to save the PDF to a temporary file to load it\n",
        "                with open(\"temp.pdf\", \"wb\") as f:\n",
        "                    f.write(file_content.getbuffer())\n",
        "                loader = PyPDFLoader(\"temp.pdf\")\n",
        "            elif file_extension == \".docx\":\n",
        "                # Docx2txtLoader can handle the BytesIO object directly\n",
        "                loader = Docx2txtLoader(file_content)\n",
        "            else:\n",
        "                print(f\"Unsupported file type: {file_extension}\")\n",
        "                return None\n",
        "\n",
        "        documents = loader.load()\n",
        "\n",
        "        # 3. Chunking\n",
        "        text_splitter = RecursiveCharacterTextSplitter(chunk_size=1000, chunk_overlap=200)\n",
        "        doc_chunks = text_splitter.split_documents(documents)\n",
        "        print(f\"Document split into {len(doc_chunks)} chunks.\")\n",
        "        return doc_chunks\n",
        "\n",
        "    except requests.exceptions.RequestException as e:\n",
        "        print(f\"Error downloading the document: {e}\")\n",
        "        return None\n",
        "    except Exception as e:\n",
        "        print(f\"An error occurred during document processing: {e}\")\n",
        "        return None"
      ],
      "metadata": {
        "id": "VctehnAgxz_X"
      },
      "execution_count": 7,
      "outputs": []
    },
    {
      "cell_type": "code",
      "source": [
        "# --- MAIN EXECUTION CELL ---\n",
        "\n",
        "# Define the path to the document you want to query.\n",
        "# This can be a local file path or a URL.\n",
        "document_path = \"sample_policy.pdf\"\n",
        "\n",
        "# Define the query you want to ask.\n",
        "user_query = \"Are there any sub-limits on room rent and ICU charges for Plan A?\"\n",
        "\n",
        "# --- Start the Workflow ---\n",
        "print(\"🚀 Starting the intelligent query process...\")\n",
        "\n",
        "# 1. INGESTION PHASE: Process the document from the path.\n",
        "doc_chunks = process_document(document_path)\n",
        "\n",
        "# Proceed only if document processing was successful.\n",
        "if doc_chunks:\n",
        "    # 2. EMBEDDING PHASE: Create the vector store from the document chunks.\n",
        "    # This step uses the Gemini embedding model.\n",
        "    vector_store = create_vector_store(doc_chunks)\n",
        "\n",
        "    if vector_store:\n",
        "        # 3. QUERYING PHASE: Query the system with your question.\n",
        "        # This step uses the Gemini Pro model for reasoning.\n",
        "        final_response = query_system(user_query, vector_store)\n",
        "\n",
        "        # Print the final structured JSON response.\n",
        "        print(\"\\n--- ✅ Final Structured Response ---\")\n",
        "        print(json.dumps(final_response, indent=2))\n",
        "    else:\n",
        "        print(\"Could not create the vector store. Halting process.\")\n",
        "else:\n",
        "    print(\"Could not process the document. Halting process.\")"
      ],
      "metadata": {
        "colab": {
          "base_uri": "https://localhost:8080/"
        },
        "id": "0hvY-AQOx3Z0",
        "outputId": "160d2e65-4198-4515-b9f6-a32e9e810fc8"
      },
      "execution_count": 8,
      "outputs": [
        {
          "output_type": "stream",
          "name": "stdout",
          "text": [
            "🚀 Starting the intelligent query process...\n",
            "Loading document from local path: sample_policy.pdf\n",
            "Document split into 100 chunks.\n",
            "Vector store created successfully using Gemini embeddings.\n",
            "Searching for clauses relevant to: 'Are there any sub-limits on room rent and ICU charges for Plan A?'\n"
          ]
        },
        {
          "output_type": "stream",
          "name": "stderr",
          "text": [
            "/tmp/ipython-input-4123500532.py:47: LangChainDeprecationWarning: The class `LLMChain` was deprecated in LangChain 0.1.17 and will be removed in 1.0. Use :meth:`~RunnableSequence, e.g., `prompt | llm`` instead.\n",
            "  chain = LLMChain(llm=llm, prompt=prompt)\n",
            "/tmp/ipython-input-4123500532.py:49: LangChainDeprecationWarning: The method `Chain.run` was deprecated in langchain 0.1.0 and will be removed in 1.0. Use :meth:`~invoke` instead.\n",
            "  response_text = chain.run(context=context_clauses, query=query)\n",
            "/usr/local/lib/python3.11/dist-packages/langchain_google_genai/chat_models.py:483: UserWarning: Convert_system_message_to_human will be deprecated!\n",
            "  warnings.warn(\"Convert_system_message_to_human will be deprecated!\")\n"
          ]
        },
        {
          "output_type": "stream",
          "name": "stdout",
          "text": [
            "Sending query and context to Gemini for evaluation...\n",
            "\n",
            "--- ✅ Final Structured Response ---\n",
            "{\n",
            "  \"decision\": \"Yes\",\n",
            "  \"explanation\": \"Yes, there are sub-limits on room rent and ICU charges.  Room rent, boarding, and nursing expenses are limited to 2% of the sum insured, up to a maximum of Rs. 5,000 per day.  ICU charges are limited to 5% of the sum insured, up to a maximum of Rs. 10,000 per day.  These limits are explicitly stated in the provided text.\",\n",
            "  \"confidence_score\": 1.0,\n",
            "  \"relevant_clauses\": [\n",
            "    \"Sublimit for\\nroom/doctors fee\\n1. Room Rent, Boarding, Nursing Expenses all inclusive as provided by the Hospital/ Nursing Home\\nup to 2% of the Sum Insured subject to maximum of Rs. 5,000/- per day\\n2. Intensive Care Unit (ICU) charges/ Intensive Cardiac Care Unit (ICCU) charges all-inclusive as\\nprovided by the Hospital/ Nursing Home up to 5% of the Sum Insured subject to maximum of Rs.\\n10,000/- per day\"\n",
            "  ]\n",
            "}\n"
          ]
        }
      ]
    },
    {
      "cell_type": "code",
      "source": [
        "questions = [\n",
        "    \"What is the grace period for premium payment under the National Parivar Mediclaim Plus Policy?\",\n",
        "    \"What is the waiting period for pre-existing diseases (PED) to be covered?\",\n",
        "    \"Does this policy cover maternity expenses, and what are the conditions?\",\n",
        "    \"What is the waiting period for cataract surgery?\",\n",
        "    \"Are the medical expenses for an organ donor covered under this policy?\",\n",
        "    \"What is the No Claim Discount (NCD) offered in this policy?\",\n",
        "    \"Is there a benefit for preventive health check-ups?\",\n",
        "    \"How does the policy define a 'Hospital'?\",\n",
        "    \"What is the extent of coverage for AYUSH treatments?\",\n",
        "    \"Are there any sub-limits on room rent and ICU charges for Plan A?\"\n",
        "]\n",
        "\n",
        "results = {}\n",
        "\n",
        "for question in questions:\n",
        "    #print(f\"\\n--- 🤔 Querying for: {question} ---\")\n",
        "    response = query_system(question, vector_store)\n",
        "    results[question] = response\n",
        "    print(json.dumps(response, indent=2))\n",
        "\n",
        "print(\"\\n\\n--- 🎉 All questions processed! ---\")"
      ],
      "metadata": {
        "colab": {
          "base_uri": "https://localhost:8080/"
        },
        "id": "IaeHvjd1ycQD",
        "outputId": "323e4f73-7bcf-4ac0-c91b-cb946109097a"
      },
      "execution_count": 12,
      "outputs": [
        {
          "output_type": "stream",
          "name": "stdout",
          "text": [
            "Searching for clauses relevant to: 'What is the grace period for premium payment under the National Parivar Mediclaim Plus Policy?'\n",
            "Sending query and context to Gemini for evaluation...\n"
          ]
        },
        {
          "output_type": "stream",
          "name": "stderr",
          "text": [
            "/usr/local/lib/python3.11/dist-packages/langchain_google_genai/chat_models.py:483: UserWarning: Convert_system_message_to_human will be deprecated!\n",
            "  warnings.warn(\"Convert_system_message_to_human will be deprecated!\")\n"
          ]
        },
        {
          "output_type": "stream",
          "name": "stdout",
          "text": [
            "{\n",
            "  \"decision\": \"Yes\",\n",
            "  \"explanation\": \"The grace period for premium payment is thirty days, applicable when premiums are paid in quarterly, half-yearly, or annual installments.  This is explicitly stated in multiple sections of the provided text (clauses).\",\n",
            "  \"confidence_score\": 1.0,\n",
            "  \"relevant_clauses\": [\n",
            "    \"Grace Period The grace period of thirty days (where premium is paid in quarterly/half yearly/annual instalments) is available on the premium due date, to pay the premium.\",\n",
            "    \"3.22. Grace Period  means the specified period of time, immediately following the premium due date during which premium payment can be made to renew or continue a policy in force without loss of continuity benefits pertaining to Waiting Periods and coverage of Pre-Existing Diseases. The Grace Period for payment of the premium shall be thirty days.\",\n",
            "    \"In case of Premium payment in instalments, if the due instalment premium is paid within Grace Period during the Policy Period, coverage shall be available during the Grace Period.\"\n",
            "  ]\n",
            "}\n",
            "Searching for clauses relevant to: 'What is the waiting period for pre-existing diseases (PED) to be covered?'\n",
            "Sending query and context to Gemini for evaluation...\n"
          ]
        },
        {
          "output_type": "stream",
          "name": "stderr",
          "text": [
            "/usr/local/lib/python3.11/dist-packages/langchain_google_genai/chat_models.py:483: UserWarning: Convert_system_message_to_human will be deprecated!\n",
            "  warnings.warn(\"Convert_system_message_to_human will be deprecated!\")\n"
          ]
        },
        {
          "output_type": "stream",
          "name": "stdout",
          "text": [
            "{\n",
            "  \"decision\": \"Yes\",\n",
            "  \"explanation\": \"The waiting period for pre-existing diseases (PED) is 36 months of continuous coverage after the date of inception of the first policy.  This waiting period can be reduced if the insured person has continuous coverage without a break, as defined by IRDAI regulations, to the extent of prior coverage.\",\n",
            "  \"confidence_score\": 1.0,\n",
            "  \"relevant_clauses\": [\n",
            "    \"6.1. Pre-Existing Diseases (Excl 01)\\na) Expenses related to the treatment of a Pre -Existing Disease (PED) and its direct complications shall be excluded until the expiry of 36 (thirty six) months of continuous coverage after the date of inception of the first policy with us.\",\n",
            "    \"c) If the Insured Person is continuously covered without any break as defined under the portability norms of the extant IRDAI (Health Insurance) Regulations then waiting period for the same would be reduced to the extent of prior coverage.\"\n",
            "  ]\n",
            "}\n",
            "Searching for clauses relevant to: 'Does this policy cover maternity expenses, and what are the conditions?'\n",
            "Sending query and context to Gemini for evaluation...\n"
          ]
        },
        {
          "output_type": "stream",
          "name": "stderr",
          "text": [
            "/usr/local/lib/python3.11/dist-packages/langchain_google_genai/chat_models.py:483: UserWarning: Convert_system_message_to_human will be deprecated!\n",
            "  warnings.warn(\"Convert_system_message_to_human will be deprecated!\")\n"
          ]
        },
        {
          "output_type": "stream",
          "name": "stdout",
          "text": [
            "{\n",
            "  \"decision\": \"Yes\",\n",
            "  \"explanation\": \"Yes, the policy covers maternity expenses.  Clause 7.15 details that it covers medical treatment expenses related to childbirth (including complicated deliveries and C-sections during hospitalization), excluding ectopic pregnancies. It also covers expenses for miscarriage (unless due to an accident) and lawful medical termination of pregnancy during the policy period.\",\n",
            "  \"confidence_score\": 1.0,\n",
            "  \"relevant_clauses\": [\n",
            "    \"7.15. Maternity Expenses (Code \\u2013 Excl 18)\\ni. Medical treatment expenses traceable to childbirth (including complicated deliveries and caesarean sections incurred\\nduring hospitalization) except ectopic pregnancy;\\nii. Expenses towards miscarriage (unless due to an accident) and lawful medical termination of pregnancy during the policy\\nperiod.\"\n",
            "  ]\n",
            "}\n",
            "Searching for clauses relevant to: 'What is the waiting period for cataract surgery?'\n",
            "Sending query and context to Gemini for evaluation...\n"
          ]
        },
        {
          "output_type": "stream",
          "name": "stderr",
          "text": [
            "/usr/local/lib/python3.11/dist-packages/langchain_google_genai/chat_models.py:483: UserWarning: Convert_system_message_to_human will be deprecated!\n",
            "  warnings.warn(\"Convert_system_message_to_human will be deprecated!\")\n"
          ]
        },
        {
          "output_type": "stream",
          "name": "stdout",
          "text": [
            "{\n",
            "  \"decision\": \"Partial/Conditional\",\n",
            "  \"explanation\": \"The provided text states that cataract surgery has a 24-month waiting period if it's considered a pre-existing condition (clause f, i, 9). However,  clause d mentions that after 36 months, coverage for pre-existing diseases is subject to declaration at application and acceptance by the insurer.  Therefore, the waiting period is dependent on whether the cataract is a pre-existing condition and when it was declared.\",\n",
            "  \"confidence_score\": 0.8,\n",
            "  \"relevant_clauses\": [\n",
            "    \"f) List of specific diseases/procedures \\ni. 24 Months waiting period \\n9. Cataract and age related eye ailments\",\n",
            "    \"d) Coverage under the policy after the expiry of 36 (thirty six) months for any pre-existing disease is subject to the same being declared at the time of application and accepted by us.\"\n",
            "  ]\n",
            "}\n",
            "Searching for clauses relevant to: 'Are the medical expenses for an organ donor covered under this policy?'\n",
            "Sending query and context to Gemini for evaluation...\n"
          ]
        },
        {
          "output_type": "stream",
          "name": "stderr",
          "text": [
            "/usr/local/lib/python3.11/dist-packages/langchain_google_genai/chat_models.py:483: UserWarning: Convert_system_message_to_human will be deprecated!\n",
            "  warnings.warn(\"Convert_system_message_to_human will be deprecated!\")\n"
          ]
        },
        {
          "output_type": "stream",
          "name": "stdout",
          "text": [
            "{\n",
            "  \"decision\": \"No\",\n",
            "  \"explanation\": \"The provided text focuses on coverage for hospitalization, pre- and post-hospitalization expenses, specific treatments like cataract surgery and AYUSH treatments, and modern treatments.  There is no mention of coverage for organ donor medical expenses.\",\n",
            "  \"confidence_score\": 1.0,\n",
            "  \"relevant_clauses\": []\n",
            "}\n",
            "Searching for clauses relevant to: 'What is the No Claim Discount (NCD) offered in this policy?'\n",
            "Sending query and context to Gemini for evaluation...\n"
          ]
        },
        {
          "output_type": "stream",
          "name": "stderr",
          "text": [
            "/usr/local/lib/python3.11/dist-packages/langchain_google_genai/chat_models.py:483: UserWarning: Convert_system_message_to_human will be deprecated!\n",
            "  warnings.warn(\"Convert_system_message_to_human will be deprecated!\")\n"
          ]
        },
        {
          "output_type": "stream",
          "name": "stdout",
          "text": [
            "{\n",
            "  \"decision\": \"No\",\n",
            "  \"explanation\": \"The provided text does not mention a No Claim Discount (NCD).  While it discusses cumulative bonus increases for claim-free years and reductions for claims, it does not refer to this as an NCD.\",\n",
            "  \"confidence_score\": 1.0,\n",
            "  \"relevant_clauses\": []\n",
            "}\n",
            "Searching for clauses relevant to: 'Is there a benefit for preventive health check-ups?'\n",
            "Sending query and context to Gemini for evaluation...\n"
          ]
        },
        {
          "output_type": "stream",
          "name": "stderr",
          "text": [
            "/usr/local/lib/python3.11/dist-packages/langchain_google_genai/chat_models.py:483: UserWarning: Convert_system_message_to_human will be deprecated!\n",
            "  warnings.warn(\"Convert_system_message_to_human will be deprecated!\")\n"
          ]
        },
        {
          "output_type": "stream",
          "name": "stdout",
          "text": [
            "{\n",
            "  \"decision\": \"No\",\n",
            "  \"explanation\": \"The provided text does not mention any benefits for preventive health check-ups.  The clauses describe exclusions, waiting periods for specific procedures, policy cancellation, withdrawal, revision of terms, and claim settlement procedures, but there is no information regarding coverage or benefits for preventive care.\",\n",
            "  \"confidence_score\": 1.0,\n",
            "  \"relevant_clauses\": []\n",
            "}\n",
            "Searching for clauses relevant to: 'How does the policy define a 'Hospital'?'\n",
            "Sending query and context to Gemini for evaluation...\n"
          ]
        },
        {
          "output_type": "stream",
          "name": "stderr",
          "text": [
            "/usr/local/lib/python3.11/dist-packages/langchain_google_genai/chat_models.py:483: UserWarning: Convert_system_message_to_human will be deprecated!\n",
            "  warnings.warn(\"Convert_system_message_to_human will be deprecated!\")\n"
          ]
        },
        {
          "output_type": "stream",
          "name": "stdout",
          "text": [
            "{\n",
            "  \"decision\": \"Yes\",\n",
            "  \"explanation\": \"The policy defines a 'Hospital' as \\\"any institution established for in-patient care and day care treatment of disease/ injuries and which has been registered as a hospital with the local authorities under the Clinical Establishments (Registration and Regulation) Act, 2010\\\".\",\n",
            "  \"confidence_score\": 1.0,\n",
            "  \"relevant_clauses\": [\n",
            "    \"3.23. Hospital means any institution established for in-patient care and day care treatment of disease/ injuries and which has been registered as a hospital with the local authorities under the Clinical Establishments (Registration and Regulation) Act, 2010\"\n",
            "  ]\n",
            "}\n",
            "Searching for clauses relevant to: 'What is the extent of coverage for AYUSH treatments?'\n",
            "Sending query and context to Gemini for evaluation...\n"
          ]
        },
        {
          "output_type": "stream",
          "name": "stderr",
          "text": [
            "/usr/local/lib/python3.11/dist-packages/langchain_google_genai/chat_models.py:483: UserWarning: Convert_system_message_to_human will be deprecated!\n",
            "  warnings.warn(\"Convert_system_message_to_human will be deprecated!\")\n"
          ]
        },
        {
          "output_type": "stream",
          "name": "stdout",
          "text": [
            "{\n",
            "  \"decision\": \"Yes\",\n",
            "  \"explanation\": \"The policy covers medical expenses incurred for inpatient AYUSH treatment up to the sum insured specified in the policy schedule.  This applies to Ayurveda, Yoga and Naturopathy, Unani, Sidha and Homeopathy systems of medicine, during each policy period, in any AYUSH hospital.\",\n",
            "  \"confidence_score\": 1.0,\n",
            "  \"relevant_clauses\": [\n",
            "    \"4.2. AYUSH Treatment\\nThe Company shall indemnify Medical Expenses incurred for Inpatient Care treatment under Ayurveda, Yoga and Naturopathy, Unani, Sidha and Homeopathy systems of medicines  during each Policy Period up to the limit of sum insured as specified in the policy schedule in any AYUSH Hospital.\"\n",
            "  ]\n",
            "}\n",
            "Searching for clauses relevant to: 'Are there any sub-limits on room rent and ICU charges for Plan A?'\n",
            "Sending query and context to Gemini for evaluation...\n"
          ]
        },
        {
          "output_type": "stream",
          "name": "stderr",
          "text": [
            "/usr/local/lib/python3.11/dist-packages/langchain_google_genai/chat_models.py:483: UserWarning: Convert_system_message_to_human will be deprecated!\n",
            "  warnings.warn(\"Convert_system_message_to_human will be deprecated!\")\n"
          ]
        },
        {
          "output_type": "stream",
          "name": "stdout",
          "text": [
            "{\n",
            "  \"decision\": \"Yes\",\n",
            "  \"explanation\": \"Yes, there are sub-limits on room rent and ICU charges.  Room rent, boarding, and nursing expenses are limited to 2% of the sum insured, up to a maximum of Rs. 5,000 per day.  ICU charges are limited to 5% of the sum insured, up to a maximum of Rs. 10,000 per day.\",\n",
            "  \"confidence_score\": 1.0,\n",
            "  \"relevant_clauses\": [\n",
            "    \"Sublimit for\\nroom/doctors fee\\n1. Room Rent, Boarding, Nursing Expenses all inclusive as provided by the Hospital/ Nursing Home\\nup to 2% of the Sum Insured subject to maximum of Rs. 5,000/- per day\\n2. Intensive Care Unit (ICU) charges/ Intensive Cardiac Care Unit (ICCU) charges all-inclusive as\\nprovided by the Hospital/ Nursing Home up to 5% of the Sum Insured subject to maximum of Rs.\\n10,000/- per day\"\n",
            "  ]\n",
            "}\n",
            "\n",
            "\n",
            "--- 🎉 All questions processed! ---\n"
          ]
        }
      ]
    },
    {
      "cell_type": "code",
      "source": [
        "for question, answer in results.items():\n",
        "    print(f\"--- Question: {question} ---\")\n",
        "    print(json.dumps(answer, indent=2))\n",
        "    print(\"-\" * 30)"
      ],
      "metadata": {
        "colab": {
          "base_uri": "https://localhost:8080/"
        },
        "id": "Zi89rwpmyhkQ",
        "outputId": "bbfafdf0-b98f-463f-f8a3-0aaeaa949b99"
      },
      "execution_count": 13,
      "outputs": [
        {
          "output_type": "stream",
          "name": "stdout",
          "text": [
            "--- Question: What is the grace period for premium payment under the National Parivar Mediclaim Plus Policy? ---\n",
            "{\n",
            "  \"decision\": \"Yes\",\n",
            "  \"explanation\": \"The grace period for premium payment is thirty days, applicable when premiums are paid in quarterly, half-yearly, or annual installments.  This is explicitly stated in multiple sections of the provided text (clauses).\",\n",
            "  \"confidence_score\": 1.0,\n",
            "  \"relevant_clauses\": [\n",
            "    \"Grace Period The grace period of thirty days (where premium is paid in quarterly/half yearly/annual instalments) is available on the premium due date, to pay the premium.\",\n",
            "    \"3.22. Grace Period  means the specified period of time, immediately following the premium due date during which premium payment can be made to renew or continue a policy in force without loss of continuity benefits pertaining to Waiting Periods and coverage of Pre-Existing Diseases. The Grace Period for payment of the premium shall be thirty days.\",\n",
            "    \"In case of Premium payment in instalments, if the due instalment premium is paid within Grace Period during the Policy Period, coverage shall be available during the Grace Period.\"\n",
            "  ]\n",
            "}\n",
            "------------------------------\n",
            "--- Question: What is the waiting period for pre-existing diseases (PED) to be covered? ---\n",
            "{\n",
            "  \"decision\": \"Yes\",\n",
            "  \"explanation\": \"The waiting period for pre-existing diseases (PED) is 36 months of continuous coverage after the date of inception of the first policy.  This waiting period can be reduced if the insured person has continuous coverage without a break, as defined by IRDAI regulations, to the extent of prior coverage.\",\n",
            "  \"confidence_score\": 1.0,\n",
            "  \"relevant_clauses\": [\n",
            "    \"6.1. Pre-Existing Diseases (Excl 01)\\na) Expenses related to the treatment of a Pre -Existing Disease (PED) and its direct complications shall be excluded until the expiry of 36 (thirty six) months of continuous coverage after the date of inception of the first policy with us.\",\n",
            "    \"c) If the Insured Person is continuously covered without any break as defined under the portability norms of the extant IRDAI (Health Insurance) Regulations then waiting period for the same would be reduced to the extent of prior coverage.\"\n",
            "  ]\n",
            "}\n",
            "------------------------------\n",
            "--- Question: Does this policy cover maternity expenses, and what are the conditions? ---\n",
            "{\n",
            "  \"decision\": \"Yes\",\n",
            "  \"explanation\": \"Yes, the policy covers maternity expenses.  Clause 7.15 details that it covers medical treatment expenses related to childbirth (including complicated deliveries and C-sections during hospitalization), excluding ectopic pregnancies. It also covers expenses for miscarriage (unless due to an accident) and lawful medical termination of pregnancy during the policy period.\",\n",
            "  \"confidence_score\": 1.0,\n",
            "  \"relevant_clauses\": [\n",
            "    \"7.15. Maternity Expenses (Code \\u2013 Excl 18)\\ni. Medical treatment expenses traceable to childbirth (including complicated deliveries and caesarean sections incurred\\nduring hospitalization) except ectopic pregnancy;\\nii. Expenses towards miscarriage (unless due to an accident) and lawful medical termination of pregnancy during the policy\\nperiod.\"\n",
            "  ]\n",
            "}\n",
            "------------------------------\n",
            "--- Question: What is the waiting period for cataract surgery? ---\n",
            "{\n",
            "  \"decision\": \"Partial/Conditional\",\n",
            "  \"explanation\": \"The provided text states that cataract surgery has a 24-month waiting period if it's considered a pre-existing condition (clause f, i, 9). However,  clause d mentions that after 36 months, coverage for pre-existing diseases is subject to declaration at application and acceptance by the insurer.  Therefore, the waiting period is dependent on whether the cataract is a pre-existing condition and when it was declared.\",\n",
            "  \"confidence_score\": 0.8,\n",
            "  \"relevant_clauses\": [\n",
            "    \"f) List of specific diseases/procedures \\ni. 24 Months waiting period \\n9. Cataract and age related eye ailments\",\n",
            "    \"d) Coverage under the policy after the expiry of 36 (thirty six) months for any pre-existing disease is subject to the same being declared at the time of application and accepted by us.\"\n",
            "  ]\n",
            "}\n",
            "------------------------------\n",
            "--- Question: Are the medical expenses for an organ donor covered under this policy? ---\n",
            "{\n",
            "  \"decision\": \"No\",\n",
            "  \"explanation\": \"The provided text focuses on coverage for hospitalization, pre- and post-hospitalization expenses, specific treatments like cataract surgery and AYUSH treatments, and modern treatments.  There is no mention of coverage for organ donor medical expenses.\",\n",
            "  \"confidence_score\": 1.0,\n",
            "  \"relevant_clauses\": []\n",
            "}\n",
            "------------------------------\n",
            "--- Question: What is the No Claim Discount (NCD) offered in this policy? ---\n",
            "{\n",
            "  \"decision\": \"No\",\n",
            "  \"explanation\": \"The provided text does not mention a No Claim Discount (NCD).  While it discusses cumulative bonus increases for claim-free years and reductions for claims, it does not refer to this as an NCD.\",\n",
            "  \"confidence_score\": 1.0,\n",
            "  \"relevant_clauses\": []\n",
            "}\n",
            "------------------------------\n",
            "--- Question: Is there a benefit for preventive health check-ups? ---\n",
            "{\n",
            "  \"decision\": \"No\",\n",
            "  \"explanation\": \"The provided text does not mention any benefits for preventive health check-ups.  The clauses describe exclusions, waiting periods for specific procedures, policy cancellation, withdrawal, revision of terms, and claim settlement procedures, but there is no information regarding coverage or benefits for preventive care.\",\n",
            "  \"confidence_score\": 1.0,\n",
            "  \"relevant_clauses\": []\n",
            "}\n",
            "------------------------------\n",
            "--- Question: How does the policy define a 'Hospital'? ---\n",
            "{\n",
            "  \"decision\": \"Yes\",\n",
            "  \"explanation\": \"The policy defines a 'Hospital' as \\\"any institution established for in-patient care and day care treatment of disease/ injuries and which has been registered as a hospital with the local authorities under the Clinical Establishments (Registration and Regulation) Act, 2010\\\".\",\n",
            "  \"confidence_score\": 1.0,\n",
            "  \"relevant_clauses\": [\n",
            "    \"3.23. Hospital means any institution established for in-patient care and day care treatment of disease/ injuries and which has been registered as a hospital with the local authorities under the Clinical Establishments (Registration and Regulation) Act, 2010\"\n",
            "  ]\n",
            "}\n",
            "------------------------------\n",
            "--- Question: What is the extent of coverage for AYUSH treatments? ---\n",
            "{\n",
            "  \"decision\": \"Yes\",\n",
            "  \"explanation\": \"The policy covers medical expenses incurred for inpatient AYUSH treatment up to the sum insured specified in the policy schedule.  This applies to Ayurveda, Yoga and Naturopathy, Unani, Sidha and Homeopathy systems of medicine, during each policy period, in any AYUSH hospital.\",\n",
            "  \"confidence_score\": 1.0,\n",
            "  \"relevant_clauses\": [\n",
            "    \"4.2. AYUSH Treatment\\nThe Company shall indemnify Medical Expenses incurred for Inpatient Care treatment under Ayurveda, Yoga and Naturopathy, Unani, Sidha and Homeopathy systems of medicines  during each Policy Period up to the limit of sum insured as specified in the policy schedule in any AYUSH Hospital.\"\n",
            "  ]\n",
            "}\n",
            "------------------------------\n",
            "--- Question: Are there any sub-limits on room rent and ICU charges for Plan A? ---\n",
            "{\n",
            "  \"decision\": \"Yes\",\n",
            "  \"explanation\": \"Yes, there are sub-limits on room rent and ICU charges.  Room rent, boarding, and nursing expenses are limited to 2% of the sum insured, up to a maximum of Rs. 5,000 per day.  ICU charges are limited to 5% of the sum insured, up to a maximum of Rs. 10,000 per day.\",\n",
            "  \"confidence_score\": 1.0,\n",
            "  \"relevant_clauses\": [\n",
            "    \"Sublimit for\\nroom/doctors fee\\n1. Room Rent, Boarding, Nursing Expenses all inclusive as provided by the Hospital/ Nursing Home\\nup to 2% of the Sum Insured subject to maximum of Rs. 5,000/- per day\\n2. Intensive Care Unit (ICU) charges/ Intensive Cardiac Care Unit (ICCU) charges all-inclusive as\\nprovided by the Hospital/ Nursing Home up to 5% of the Sum Insured subject to maximum of Rs.\\n10,000/- per day\"\n",
            "  ]\n",
            "}\n",
            "------------------------------\n"
          ]
        }
      ]
    },
    {
      "cell_type": "code",
      "source": [
        "import json\n",
        "\n",
        "# Example input JSON structure\n",
        "input_json = {\n",
        "    \"questions\": [\n",
        "        \"What is the grace period for premium payment under the National Parivar Mediclaim Plus Policy?\",\n",
        "        \"What is the waiting period for pre-existing diseases (PED) to be covered?\",\n",
        "        \"Does this policy cover maternity expenses, and what are the conditions?\",\n",
        "        \"What is the waiting period for cataract surgery?\",\n",
        "        \"Are the medical expenses for an organ donor covered under this policy?\",\n",
        "        \"What is the No Claim Discount (NCD) offered in this policy?\",\n",
        "        \"Is there a benefit for preventive health check-ups?\",\n",
        "        \"How does the policy define a 'Hospital'?\",\n",
        "        \"What is the extent of coverage for AYUSH treatments?\",\n",
        "        \"Are there any sub-limits on room rent and ICU charges for Plan A?\"\n",
        "    ]\n",
        "}\n",
        "\n",
        "# Process the questions from the input JSON\n",
        "final_answers = {\n",
        "    \"answers\": []\n",
        "}\n",
        "\n",
        "for question in input_json[\"questions\"]:\n",
        "    final_answers[\"answers\"].append(results[question][\"explanation\"])\n",
        "\n",
        "# Output the answers in JSON format\n",
        "print(json.dumps(final_answers, indent=2))"
      ],
      "metadata": {
        "colab": {
          "base_uri": "https://localhost:8080/"
        },
        "id": "l4SbbIQJysfr",
        "outputId": "9b169a32-f02f-4a28-81d7-cb646e65eceb"
      },
      "execution_count": 15,
      "outputs": [
        {
          "output_type": "stream",
          "name": "stdout",
          "text": [
            "{\n",
            "  \"answers\": [\n",
            "    \"The grace period for premium payment is thirty days, applicable when premiums are paid in quarterly, half-yearly, or annual installments.  This is explicitly stated in multiple sections of the provided text (clauses).\",\n",
            "    \"The waiting period for pre-existing diseases (PED) is 36 months of continuous coverage after the date of inception of the first policy.  This waiting period can be reduced if the insured person has continuous coverage without a break, as defined by IRDAI regulations, to the extent of prior coverage.\",\n",
            "    \"Yes, the policy covers maternity expenses.  Clause 7.15 details that it covers medical treatment expenses related to childbirth (including complicated deliveries and C-sections during hospitalization), excluding ectopic pregnancies. It also covers expenses for miscarriage (unless due to an accident) and lawful medical termination of pregnancy during the policy period.\",\n",
            "    \"The provided text states that cataract surgery has a 24-month waiting period if it's considered a pre-existing condition (clause f, i, 9). However,  clause d mentions that after 36 months, coverage for pre-existing diseases is subject to declaration at application and acceptance by the insurer.  Therefore, the waiting period is dependent on whether the cataract is a pre-existing condition and when it was declared.\",\n",
            "    \"The provided text focuses on coverage for hospitalization, pre- and post-hospitalization expenses, specific treatments like cataract surgery and AYUSH treatments, and modern treatments.  There is no mention of coverage for organ donor medical expenses.\",\n",
            "    \"The provided text does not mention a No Claim Discount (NCD).  While it discusses cumulative bonus increases for claim-free years and reductions for claims, it does not refer to this as an NCD.\",\n",
            "    \"The provided text does not mention any benefits for preventive health check-ups.  The clauses describe exclusions, waiting periods for specific procedures, policy cancellation, withdrawal, revision of terms, and claim settlement procedures, but there is no information regarding coverage or benefits for preventive care.\",\n",
            "    \"The policy defines a 'Hospital' as \\\"any institution established for in-patient care and day care treatment of disease/ injuries and which has been registered as a hospital with the local authorities under the Clinical Establishments (Registration and Regulation) Act, 2010\\\".\",\n",
            "    \"The policy covers medical expenses incurred for inpatient AYUSH treatment up to the sum insured specified in the policy schedule.  This applies to Ayurveda, Yoga and Naturopathy, Unani, Sidha and Homeopathy systems of medicine, during each policy period, in any AYUSH hospital.\",\n",
            "    \"Yes, there are sub-limits on room rent and ICU charges.  Room rent, boarding, and nursing expenses are limited to 2% of the sum insured, up to a maximum of Rs. 5,000 per day.  ICU charges are limited to 5% of the sum insured, up to a maximum of Rs. 10,000 per day.\"\n",
            "  ]\n",
            "}\n"
          ]
        }
      ]
    },
    {
      "cell_type": "code",
      "source": [],
      "metadata": {
        "id": "UBOTT24OzBPm"
      },
      "execution_count": null,
      "outputs": []
    }
  ]
}